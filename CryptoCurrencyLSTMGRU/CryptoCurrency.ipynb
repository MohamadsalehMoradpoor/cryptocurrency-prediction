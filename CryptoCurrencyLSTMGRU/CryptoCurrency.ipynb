{
 "cells": [
  {
   "cell_type": "code",
   "execution_count": 1,
   "id": "329505fa",
   "metadata": {},
   "outputs": [],
   "source": [
    "import pandas as pd\n",
    "import numpy as np\n",
    "import matplotlib.pyplot as plt\n",
    "import random\n",
    "from sklearn import preprocessing\n",
    "from collections import deque"
   ]
  },
  {
   "cell_type": "code",
   "execution_count": 2,
   "id": "b39c981a",
   "metadata": {},
   "outputs": [],
   "source": [
    "main_dataframe = pd.DataFrame()"
   ]
  },
  {
   "cell_type": "code",
   "execution_count": 3,
   "id": "4da2ccb7",
   "metadata": {},
   "outputs": [],
   "source": [
    "currencies = ['BCH-USD', 'BTC-USD', 'ETH-USD', 'LTC-USD']\n",
    "for c in currencies:\n",
    "    dataset = 'data/' + c + '.csv'\n",
    "    df = pd.read_csv(dataset, names=['time', 'low', 'high', 'open', 'close', 'volume'])\n",
    "    df.rename(columns={'close': c + '_close', 'volume': c + '_volume'}, inplace=True)\n",
    "    df.set_index('time', inplace=True)\n",
    "    df = df[[ c + '_close', c + '_volume']]\n",
    "    if len(main_dataframe) == 0:\n",
    "        main_dataframe = df\n",
    "    else:\n",
    "        main_dataframe = main_dataframe.join(df)"
   ]
  },
  {
   "cell_type": "code",
   "execution_count": 4,
   "id": "baa3f420",
   "metadata": {},
   "outputs": [
    {
     "data": {
      "text/html": [
       "<div>\n",
       "<style scoped>\n",
       "    .dataframe tbody tr th:only-of-type {\n",
       "        vertical-align: middle;\n",
       "    }\n",
       "\n",
       "    .dataframe tbody tr th {\n",
       "        vertical-align: top;\n",
       "    }\n",
       "\n",
       "    .dataframe thead th {\n",
       "        text-align: right;\n",
       "    }\n",
       "</style>\n",
       "<table border=\"1\" class=\"dataframe\">\n",
       "  <thead>\n",
       "    <tr style=\"text-align: right;\">\n",
       "      <th></th>\n",
       "      <th>BCH-USD_close</th>\n",
       "      <th>BCH-USD_volume</th>\n",
       "      <th>BTC-USD_close</th>\n",
       "      <th>BTC-USD_volume</th>\n",
       "      <th>ETH-USD_close</th>\n",
       "      <th>ETH-USD_volume</th>\n",
       "      <th>LTC-USD_close</th>\n",
       "      <th>LTC-USD_volume</th>\n",
       "    </tr>\n",
       "    <tr>\n",
       "      <th>time</th>\n",
       "      <th></th>\n",
       "      <th></th>\n",
       "      <th></th>\n",
       "      <th></th>\n",
       "      <th></th>\n",
       "      <th></th>\n",
       "      <th></th>\n",
       "      <th></th>\n",
       "    </tr>\n",
       "  </thead>\n",
       "  <tbody>\n",
       "    <tr>\n",
       "      <th>1528968660</th>\n",
       "      <td>871.719971</td>\n",
       "      <td>5.675361</td>\n",
       "      <td>6489.549805</td>\n",
       "      <td>0.587100</td>\n",
       "      <td>NaN</td>\n",
       "      <td>NaN</td>\n",
       "      <td>96.580002</td>\n",
       "      <td>9.647200</td>\n",
       "    </tr>\n",
       "    <tr>\n",
       "      <th>1528968720</th>\n",
       "      <td>870.859985</td>\n",
       "      <td>26.856577</td>\n",
       "      <td>6487.379883</td>\n",
       "      <td>7.706374</td>\n",
       "      <td>486.01001</td>\n",
       "      <td>26.019083</td>\n",
       "      <td>96.660004</td>\n",
       "      <td>314.387024</td>\n",
       "    </tr>\n",
       "    <tr>\n",
       "      <th>1528968780</th>\n",
       "      <td>870.099976</td>\n",
       "      <td>1.124300</td>\n",
       "      <td>6479.410156</td>\n",
       "      <td>3.088252</td>\n",
       "      <td>486.00000</td>\n",
       "      <td>8.449400</td>\n",
       "      <td>96.570000</td>\n",
       "      <td>77.129799</td>\n",
       "    </tr>\n",
       "    <tr>\n",
       "      <th>1528968840</th>\n",
       "      <td>870.789978</td>\n",
       "      <td>1.749862</td>\n",
       "      <td>6479.410156</td>\n",
       "      <td>1.404100</td>\n",
       "      <td>485.75000</td>\n",
       "      <td>26.994646</td>\n",
       "      <td>96.500000</td>\n",
       "      <td>7.216067</td>\n",
       "    </tr>\n",
       "    <tr>\n",
       "      <th>1528968900</th>\n",
       "      <td>870.000000</td>\n",
       "      <td>1.680500</td>\n",
       "      <td>6479.979980</td>\n",
       "      <td>0.753000</td>\n",
       "      <td>486.00000</td>\n",
       "      <td>77.355759</td>\n",
       "      <td>96.389999</td>\n",
       "      <td>524.539978</td>\n",
       "    </tr>\n",
       "  </tbody>\n",
       "</table>\n",
       "</div>"
      ],
      "text/plain": [
       "            BCH-USD_close  BCH-USD_volume  BTC-USD_close  BTC-USD_volume  \\\n",
       "time                                                                       \n",
       "1528968660     871.719971        5.675361    6489.549805        0.587100   \n",
       "1528968720     870.859985       26.856577    6487.379883        7.706374   \n",
       "1528968780     870.099976        1.124300    6479.410156        3.088252   \n",
       "1528968840     870.789978        1.749862    6479.410156        1.404100   \n",
       "1528968900     870.000000        1.680500    6479.979980        0.753000   \n",
       "\n",
       "            ETH-USD_close  ETH-USD_volume  LTC-USD_close  LTC-USD_volume  \n",
       "time                                                                      \n",
       "1528968660            NaN             NaN      96.580002        9.647200  \n",
       "1528968720      486.01001       26.019083      96.660004      314.387024  \n",
       "1528968780      486.00000        8.449400      96.570000       77.129799  \n",
       "1528968840      485.75000       26.994646      96.500000        7.216067  \n",
       "1528968900      486.00000       77.355759      96.389999      524.539978  "
      ]
     },
     "execution_count": 4,
     "metadata": {},
     "output_type": "execute_result"
    }
   ],
   "source": [
    "main_dataframe.head()"
   ]
  },
  {
   "cell_type": "code",
   "execution_count": 5,
   "id": "13c69c50",
   "metadata": {},
   "outputs": [
    {
     "data": {
      "text/plain": [
       "BCH-USD_close        0\n",
       "BCH-USD_volume       0\n",
       "BTC-USD_close     5122\n",
       "BTC-USD_volume    5122\n",
       "ETH-USD_close      195\n",
       "ETH-USD_volume     195\n",
       "LTC-USD_close      836\n",
       "LTC-USD_volume     836\n",
       "dtype: int64"
      ]
     },
     "execution_count": 5,
     "metadata": {},
     "output_type": "execute_result"
    }
   ],
   "source": [
    "main_dataframe.isnull().sum()"
   ]
  },
  {
   "cell_type": "code",
   "execution_count": 6,
   "id": "07daa7d8",
   "metadata": {},
   "outputs": [],
   "source": [
    "main_dataframe.fillna(method='ffill', inplace=True)"
   ]
  },
  {
   "cell_type": "code",
   "execution_count": 7,
   "id": "6cf9e7c0",
   "metadata": {},
   "outputs": [
    {
     "data": {
      "text/plain": [
       "BCH-USD_close     0\n",
       "BCH-USD_volume    0\n",
       "BTC-USD_close     0\n",
       "BTC-USD_volume    0\n",
       "ETH-USD_close     1\n",
       "ETH-USD_volume    1\n",
       "LTC-USD_close     0\n",
       "LTC-USD_volume    0\n",
       "dtype: int64"
      ]
     },
     "execution_count": 7,
     "metadata": {},
     "output_type": "execute_result"
    }
   ],
   "source": [
    "main_dataframe.isnull().sum()"
   ]
  },
  {
   "cell_type": "code",
   "execution_count": 8,
   "id": "75228b4d",
   "metadata": {},
   "outputs": [
    {
     "data": {
      "text/html": [
       "<div>\n",
       "<style scoped>\n",
       "    .dataframe tbody tr th:only-of-type {\n",
       "        vertical-align: middle;\n",
       "    }\n",
       "\n",
       "    .dataframe tbody tr th {\n",
       "        vertical-align: top;\n",
       "    }\n",
       "\n",
       "    .dataframe thead th {\n",
       "        text-align: right;\n",
       "    }\n",
       "</style>\n",
       "<table border=\"1\" class=\"dataframe\">\n",
       "  <thead>\n",
       "    <tr style=\"text-align: right;\">\n",
       "      <th></th>\n",
       "      <th>BCH-USD_close</th>\n",
       "      <th>BCH-USD_volume</th>\n",
       "      <th>BTC-USD_close</th>\n",
       "      <th>BTC-USD_volume</th>\n",
       "      <th>ETH-USD_close</th>\n",
       "      <th>ETH-USD_volume</th>\n",
       "      <th>LTC-USD_close</th>\n",
       "      <th>LTC-USD_volume</th>\n",
       "    </tr>\n",
       "    <tr>\n",
       "      <th>time</th>\n",
       "      <th></th>\n",
       "      <th></th>\n",
       "      <th></th>\n",
       "      <th></th>\n",
       "      <th></th>\n",
       "      <th></th>\n",
       "      <th></th>\n",
       "      <th></th>\n",
       "    </tr>\n",
       "  </thead>\n",
       "  <tbody>\n",
       "    <tr>\n",
       "      <th>1528968660</th>\n",
       "      <td>871.719971</td>\n",
       "      <td>5.675361</td>\n",
       "      <td>6489.549805</td>\n",
       "      <td>0.587100</td>\n",
       "      <td>NaN</td>\n",
       "      <td>NaN</td>\n",
       "      <td>96.580002</td>\n",
       "      <td>9.647200</td>\n",
       "    </tr>\n",
       "    <tr>\n",
       "      <th>1528968720</th>\n",
       "      <td>870.859985</td>\n",
       "      <td>26.856577</td>\n",
       "      <td>6487.379883</td>\n",
       "      <td>7.706374</td>\n",
       "      <td>486.01001</td>\n",
       "      <td>26.019083</td>\n",
       "      <td>96.660004</td>\n",
       "      <td>314.387024</td>\n",
       "    </tr>\n",
       "    <tr>\n",
       "      <th>1528968780</th>\n",
       "      <td>870.099976</td>\n",
       "      <td>1.124300</td>\n",
       "      <td>6479.410156</td>\n",
       "      <td>3.088252</td>\n",
       "      <td>486.00000</td>\n",
       "      <td>8.449400</td>\n",
       "      <td>96.570000</td>\n",
       "      <td>77.129799</td>\n",
       "    </tr>\n",
       "    <tr>\n",
       "      <th>1528968840</th>\n",
       "      <td>870.789978</td>\n",
       "      <td>1.749862</td>\n",
       "      <td>6479.410156</td>\n",
       "      <td>1.404100</td>\n",
       "      <td>485.75000</td>\n",
       "      <td>26.994646</td>\n",
       "      <td>96.500000</td>\n",
       "      <td>7.216067</td>\n",
       "    </tr>\n",
       "    <tr>\n",
       "      <th>1528968900</th>\n",
       "      <td>870.000000</td>\n",
       "      <td>1.680500</td>\n",
       "      <td>6479.979980</td>\n",
       "      <td>0.753000</td>\n",
       "      <td>486.00000</td>\n",
       "      <td>77.355759</td>\n",
       "      <td>96.389999</td>\n",
       "      <td>524.539978</td>\n",
       "    </tr>\n",
       "  </tbody>\n",
       "</table>\n",
       "</div>"
      ],
      "text/plain": [
       "            BCH-USD_close  BCH-USD_volume  BTC-USD_close  BTC-USD_volume  \\\n",
       "time                                                                       \n",
       "1528968660     871.719971        5.675361    6489.549805        0.587100   \n",
       "1528968720     870.859985       26.856577    6487.379883        7.706374   \n",
       "1528968780     870.099976        1.124300    6479.410156        3.088252   \n",
       "1528968840     870.789978        1.749862    6479.410156        1.404100   \n",
       "1528968900     870.000000        1.680500    6479.979980        0.753000   \n",
       "\n",
       "            ETH-USD_close  ETH-USD_volume  LTC-USD_close  LTC-USD_volume  \n",
       "time                                                                      \n",
       "1528968660            NaN             NaN      96.580002        9.647200  \n",
       "1528968720      486.01001       26.019083      96.660004      314.387024  \n",
       "1528968780      486.00000        8.449400      96.570000       77.129799  \n",
       "1528968840      485.75000       26.994646      96.500000        7.216067  \n",
       "1528968900      486.00000       77.355759      96.389999      524.539978  "
      ]
     },
     "execution_count": 8,
     "metadata": {},
     "output_type": "execute_result"
    }
   ],
   "source": [
    "main_dataframe.head()"
   ]
  },
  {
   "cell_type": "code",
   "execution_count": 9,
   "id": "d70d537d",
   "metadata": {},
   "outputs": [],
   "source": [
    "main_dataframe.fillna(method='bfill', inplace=True)"
   ]
  },
  {
   "cell_type": "code",
   "execution_count": 10,
   "id": "440fb99d",
   "metadata": {},
   "outputs": [
    {
     "data": {
      "text/html": [
       "<div>\n",
       "<style scoped>\n",
       "    .dataframe tbody tr th:only-of-type {\n",
       "        vertical-align: middle;\n",
       "    }\n",
       "\n",
       "    .dataframe tbody tr th {\n",
       "        vertical-align: top;\n",
       "    }\n",
       "\n",
       "    .dataframe thead th {\n",
       "        text-align: right;\n",
       "    }\n",
       "</style>\n",
       "<table border=\"1\" class=\"dataframe\">\n",
       "  <thead>\n",
       "    <tr style=\"text-align: right;\">\n",
       "      <th></th>\n",
       "      <th>BCH-USD_close</th>\n",
       "      <th>BCH-USD_volume</th>\n",
       "      <th>BTC-USD_close</th>\n",
       "      <th>BTC-USD_volume</th>\n",
       "      <th>ETH-USD_close</th>\n",
       "      <th>ETH-USD_volume</th>\n",
       "      <th>LTC-USD_close</th>\n",
       "      <th>LTC-USD_volume</th>\n",
       "    </tr>\n",
       "    <tr>\n",
       "      <th>time</th>\n",
       "      <th></th>\n",
       "      <th></th>\n",
       "      <th></th>\n",
       "      <th></th>\n",
       "      <th></th>\n",
       "      <th></th>\n",
       "      <th></th>\n",
       "      <th></th>\n",
       "    </tr>\n",
       "  </thead>\n",
       "  <tbody>\n",
       "    <tr>\n",
       "      <th>1528968660</th>\n",
       "      <td>871.719971</td>\n",
       "      <td>5.675361</td>\n",
       "      <td>6489.549805</td>\n",
       "      <td>0.587100</td>\n",
       "      <td>486.01001</td>\n",
       "      <td>26.019083</td>\n",
       "      <td>96.580002</td>\n",
       "      <td>9.647200</td>\n",
       "    </tr>\n",
       "    <tr>\n",
       "      <th>1528968720</th>\n",
       "      <td>870.859985</td>\n",
       "      <td>26.856577</td>\n",
       "      <td>6487.379883</td>\n",
       "      <td>7.706374</td>\n",
       "      <td>486.01001</td>\n",
       "      <td>26.019083</td>\n",
       "      <td>96.660004</td>\n",
       "      <td>314.387024</td>\n",
       "    </tr>\n",
       "    <tr>\n",
       "      <th>1528968780</th>\n",
       "      <td>870.099976</td>\n",
       "      <td>1.124300</td>\n",
       "      <td>6479.410156</td>\n",
       "      <td>3.088252</td>\n",
       "      <td>486.00000</td>\n",
       "      <td>8.449400</td>\n",
       "      <td>96.570000</td>\n",
       "      <td>77.129799</td>\n",
       "    </tr>\n",
       "    <tr>\n",
       "      <th>1528968840</th>\n",
       "      <td>870.789978</td>\n",
       "      <td>1.749862</td>\n",
       "      <td>6479.410156</td>\n",
       "      <td>1.404100</td>\n",
       "      <td>485.75000</td>\n",
       "      <td>26.994646</td>\n",
       "      <td>96.500000</td>\n",
       "      <td>7.216067</td>\n",
       "    </tr>\n",
       "    <tr>\n",
       "      <th>1528968900</th>\n",
       "      <td>870.000000</td>\n",
       "      <td>1.680500</td>\n",
       "      <td>6479.979980</td>\n",
       "      <td>0.753000</td>\n",
       "      <td>486.00000</td>\n",
       "      <td>77.355759</td>\n",
       "      <td>96.389999</td>\n",
       "      <td>524.539978</td>\n",
       "    </tr>\n",
       "  </tbody>\n",
       "</table>\n",
       "</div>"
      ],
      "text/plain": [
       "            BCH-USD_close  BCH-USD_volume  BTC-USD_close  BTC-USD_volume  \\\n",
       "time                                                                       \n",
       "1528968660     871.719971        5.675361    6489.549805        0.587100   \n",
       "1528968720     870.859985       26.856577    6487.379883        7.706374   \n",
       "1528968780     870.099976        1.124300    6479.410156        3.088252   \n",
       "1528968840     870.789978        1.749862    6479.410156        1.404100   \n",
       "1528968900     870.000000        1.680500    6479.979980        0.753000   \n",
       "\n",
       "            ETH-USD_close  ETH-USD_volume  LTC-USD_close  LTC-USD_volume  \n",
       "time                                                                      \n",
       "1528968660      486.01001       26.019083      96.580002        9.647200  \n",
       "1528968720      486.01001       26.019083      96.660004      314.387024  \n",
       "1528968780      486.00000        8.449400      96.570000       77.129799  \n",
       "1528968840      485.75000       26.994646      96.500000        7.216067  \n",
       "1528968900      486.00000       77.355759      96.389999      524.539978  "
      ]
     },
     "execution_count": 10,
     "metadata": {},
     "output_type": "execute_result"
    }
   ],
   "source": [
    "main_dataframe.head()"
   ]
  },
  {
   "cell_type": "code",
   "execution_count": 11,
   "id": "1a49476e",
   "metadata": {},
   "outputs": [
    {
     "data": {
      "text/plain": [
       "BCH-USD_close     0\n",
       "BCH-USD_volume    0\n",
       "BTC-USD_close     0\n",
       "BTC-USD_volume    0\n",
       "ETH-USD_close     0\n",
       "ETH-USD_volume    0\n",
       "LTC-USD_close     0\n",
       "LTC-USD_volume    0\n",
       "dtype: int64"
      ]
     },
     "execution_count": 11,
     "metadata": {},
     "output_type": "execute_result"
    }
   ],
   "source": [
    "main_dataframe.isnull().sum()"
   ]
  },
  {
   "cell_type": "code",
   "execution_count": 12,
   "id": "762a2ca7",
   "metadata": {},
   "outputs": [],
   "source": [
    "main_dataframe['future'] = main_dataframe['LTC-USD_close'].shift(-3)"
   ]
  },
  {
   "cell_type": "code",
   "execution_count": 13,
   "id": "b9523737",
   "metadata": {},
   "outputs": [
    {
     "data": {
      "text/html": [
       "<div>\n",
       "<style scoped>\n",
       "    .dataframe tbody tr th:only-of-type {\n",
       "        vertical-align: middle;\n",
       "    }\n",
       "\n",
       "    .dataframe tbody tr th {\n",
       "        vertical-align: top;\n",
       "    }\n",
       "\n",
       "    .dataframe thead th {\n",
       "        text-align: right;\n",
       "    }\n",
       "</style>\n",
       "<table border=\"1\" class=\"dataframe\">\n",
       "  <thead>\n",
       "    <tr style=\"text-align: right;\">\n",
       "      <th></th>\n",
       "      <th>BCH-USD_close</th>\n",
       "      <th>BCH-USD_volume</th>\n",
       "      <th>BTC-USD_close</th>\n",
       "      <th>BTC-USD_volume</th>\n",
       "      <th>ETH-USD_close</th>\n",
       "      <th>ETH-USD_volume</th>\n",
       "      <th>LTC-USD_close</th>\n",
       "      <th>LTC-USD_volume</th>\n",
       "      <th>future</th>\n",
       "    </tr>\n",
       "    <tr>\n",
       "      <th>time</th>\n",
       "      <th></th>\n",
       "      <th></th>\n",
       "      <th></th>\n",
       "      <th></th>\n",
       "      <th></th>\n",
       "      <th></th>\n",
       "      <th></th>\n",
       "      <th></th>\n",
       "      <th></th>\n",
       "    </tr>\n",
       "  </thead>\n",
       "  <tbody>\n",
       "    <tr>\n",
       "      <th>1528968660</th>\n",
       "      <td>871.719971</td>\n",
       "      <td>5.675361</td>\n",
       "      <td>6489.549805</td>\n",
       "      <td>0.587100</td>\n",
       "      <td>486.01001</td>\n",
       "      <td>26.019083</td>\n",
       "      <td>96.580002</td>\n",
       "      <td>9.647200</td>\n",
       "      <td>96.500000</td>\n",
       "    </tr>\n",
       "    <tr>\n",
       "      <th>1528968720</th>\n",
       "      <td>870.859985</td>\n",
       "      <td>26.856577</td>\n",
       "      <td>6487.379883</td>\n",
       "      <td>7.706374</td>\n",
       "      <td>486.01001</td>\n",
       "      <td>26.019083</td>\n",
       "      <td>96.660004</td>\n",
       "      <td>314.387024</td>\n",
       "      <td>96.389999</td>\n",
       "    </tr>\n",
       "    <tr>\n",
       "      <th>1528968780</th>\n",
       "      <td>870.099976</td>\n",
       "      <td>1.124300</td>\n",
       "      <td>6479.410156</td>\n",
       "      <td>3.088252</td>\n",
       "      <td>486.00000</td>\n",
       "      <td>8.449400</td>\n",
       "      <td>96.570000</td>\n",
       "      <td>77.129799</td>\n",
       "      <td>96.519997</td>\n",
       "    </tr>\n",
       "    <tr>\n",
       "      <th>1528968840</th>\n",
       "      <td>870.789978</td>\n",
       "      <td>1.749862</td>\n",
       "      <td>6479.410156</td>\n",
       "      <td>1.404100</td>\n",
       "      <td>485.75000</td>\n",
       "      <td>26.994646</td>\n",
       "      <td>96.500000</td>\n",
       "      <td>7.216067</td>\n",
       "      <td>96.440002</td>\n",
       "    </tr>\n",
       "    <tr>\n",
       "      <th>1528968900</th>\n",
       "      <td>870.000000</td>\n",
       "      <td>1.680500</td>\n",
       "      <td>6479.979980</td>\n",
       "      <td>0.753000</td>\n",
       "      <td>486.00000</td>\n",
       "      <td>77.355759</td>\n",
       "      <td>96.389999</td>\n",
       "      <td>524.539978</td>\n",
       "      <td>96.470001</td>\n",
       "    </tr>\n",
       "  </tbody>\n",
       "</table>\n",
       "</div>"
      ],
      "text/plain": [
       "            BCH-USD_close  BCH-USD_volume  BTC-USD_close  BTC-USD_volume  \\\n",
       "time                                                                       \n",
       "1528968660     871.719971        5.675361    6489.549805        0.587100   \n",
       "1528968720     870.859985       26.856577    6487.379883        7.706374   \n",
       "1528968780     870.099976        1.124300    6479.410156        3.088252   \n",
       "1528968840     870.789978        1.749862    6479.410156        1.404100   \n",
       "1528968900     870.000000        1.680500    6479.979980        0.753000   \n",
       "\n",
       "            ETH-USD_close  ETH-USD_volume  LTC-USD_close  LTC-USD_volume  \\\n",
       "time                                                                       \n",
       "1528968660      486.01001       26.019083      96.580002        9.647200   \n",
       "1528968720      486.01001       26.019083      96.660004      314.387024   \n",
       "1528968780      486.00000        8.449400      96.570000       77.129799   \n",
       "1528968840      485.75000       26.994646      96.500000        7.216067   \n",
       "1528968900      486.00000       77.355759      96.389999      524.539978   \n",
       "\n",
       "               future  \n",
       "time                   \n",
       "1528968660  96.500000  \n",
       "1528968720  96.389999  \n",
       "1528968780  96.519997  \n",
       "1528968840  96.440002  \n",
       "1528968900  96.470001  "
      ]
     },
     "execution_count": 13,
     "metadata": {},
     "output_type": "execute_result"
    }
   ],
   "source": [
    "main_dataframe.head()"
   ]
  },
  {
   "cell_type": "code",
   "execution_count": 14,
   "id": "e30de883",
   "metadata": {},
   "outputs": [
    {
     "data": {
      "text/html": [
       "<div>\n",
       "<style scoped>\n",
       "    .dataframe tbody tr th:only-of-type {\n",
       "        vertical-align: middle;\n",
       "    }\n",
       "\n",
       "    .dataframe tbody tr th {\n",
       "        vertical-align: top;\n",
       "    }\n",
       "\n",
       "    .dataframe thead th {\n",
       "        text-align: right;\n",
       "    }\n",
       "</style>\n",
       "<table border=\"1\" class=\"dataframe\">\n",
       "  <thead>\n",
       "    <tr style=\"text-align: right;\">\n",
       "      <th></th>\n",
       "      <th>BCH-USD_close</th>\n",
       "      <th>BCH-USD_volume</th>\n",
       "      <th>BTC-USD_close</th>\n",
       "      <th>BTC-USD_volume</th>\n",
       "      <th>ETH-USD_close</th>\n",
       "      <th>ETH-USD_volume</th>\n",
       "      <th>LTC-USD_close</th>\n",
       "      <th>LTC-USD_volume</th>\n",
       "      <th>future</th>\n",
       "    </tr>\n",
       "    <tr>\n",
       "      <th>time</th>\n",
       "      <th></th>\n",
       "      <th></th>\n",
       "      <th></th>\n",
       "      <th></th>\n",
       "      <th></th>\n",
       "      <th></th>\n",
       "      <th></th>\n",
       "      <th></th>\n",
       "      <th></th>\n",
       "    </tr>\n",
       "  </thead>\n",
       "  <tbody>\n",
       "    <tr>\n",
       "      <th>1535215020</th>\n",
       "      <td>531.479980</td>\n",
       "      <td>0.016868</td>\n",
       "      <td>6714.52002</td>\n",
       "      <td>1.002652</td>\n",
       "      <td>279.359985</td>\n",
       "      <td>8.790519</td>\n",
       "      <td>58.009998</td>\n",
       "      <td>7.301921</td>\n",
       "      <td>58.080002</td>\n",
       "    </tr>\n",
       "    <tr>\n",
       "      <th>1535215080</th>\n",
       "      <td>531.469971</td>\n",
       "      <td>0.013854</td>\n",
       "      <td>6714.52002</td>\n",
       "      <td>1.021925</td>\n",
       "      <td>279.369995</td>\n",
       "      <td>1.311763</td>\n",
       "      <td>58.020000</td>\n",
       "      <td>23.802017</td>\n",
       "      <td>58.090000</td>\n",
       "    </tr>\n",
       "    <tr>\n",
       "      <th>1535215140</th>\n",
       "      <td>531.479980</td>\n",
       "      <td>0.016900</td>\n",
       "      <td>6715.00000</td>\n",
       "      <td>3.645508</td>\n",
       "      <td>279.660004</td>\n",
       "      <td>11.752819</td>\n",
       "      <td>58.020000</td>\n",
       "      <td>6.953497</td>\n",
       "      <td>NaN</td>\n",
       "    </tr>\n",
       "    <tr>\n",
       "      <th>1535215200</th>\n",
       "      <td>531.479980</td>\n",
       "      <td>0.299520</td>\n",
       "      <td>6715.00000</td>\n",
       "      <td>0.513560</td>\n",
       "      <td>279.649994</td>\n",
       "      <td>8.351710</td>\n",
       "      <td>58.080002</td>\n",
       "      <td>202.403183</td>\n",
       "      <td>NaN</td>\n",
       "    </tr>\n",
       "    <tr>\n",
       "      <th>1535215260</th>\n",
       "      <td>531.630005</td>\n",
       "      <td>3.528913</td>\n",
       "      <td>6715.00000</td>\n",
       "      <td>0.513560</td>\n",
       "      <td>279.649994</td>\n",
       "      <td>10.511729</td>\n",
       "      <td>58.090000</td>\n",
       "      <td>160.602554</td>\n",
       "      <td>NaN</td>\n",
       "    </tr>\n",
       "  </tbody>\n",
       "</table>\n",
       "</div>"
      ],
      "text/plain": [
       "            BCH-USD_close  BCH-USD_volume  BTC-USD_close  BTC-USD_volume  \\\n",
       "time                                                                       \n",
       "1535215020     531.479980        0.016868     6714.52002        1.002652   \n",
       "1535215080     531.469971        0.013854     6714.52002        1.021925   \n",
       "1535215140     531.479980        0.016900     6715.00000        3.645508   \n",
       "1535215200     531.479980        0.299520     6715.00000        0.513560   \n",
       "1535215260     531.630005        3.528913     6715.00000        0.513560   \n",
       "\n",
       "            ETH-USD_close  ETH-USD_volume  LTC-USD_close  LTC-USD_volume  \\\n",
       "time                                                                       \n",
       "1535215020     279.359985        8.790519      58.009998        7.301921   \n",
       "1535215080     279.369995        1.311763      58.020000       23.802017   \n",
       "1535215140     279.660004       11.752819      58.020000        6.953497   \n",
       "1535215200     279.649994        8.351710      58.080002      202.403183   \n",
       "1535215260     279.649994       10.511729      58.090000      160.602554   \n",
       "\n",
       "               future  \n",
       "time                   \n",
       "1535215020  58.080002  \n",
       "1535215080  58.090000  \n",
       "1535215140        NaN  \n",
       "1535215200        NaN  \n",
       "1535215260        NaN  "
      ]
     },
     "execution_count": 14,
     "metadata": {},
     "output_type": "execute_result"
    }
   ],
   "source": [
    "main_dataframe.tail()"
   ]
  },
  {
   "cell_type": "code",
   "execution_count": 15,
   "id": "17117b4a",
   "metadata": {},
   "outputs": [],
   "source": [
    "def compare(current, future):\n",
    "    if future > current:\n",
    "        return 1\n",
    "    else:\n",
    "        return 0\n",
    "main_dataframe['target'] = list(map(compare, main_dataframe['LTC-USD_close'], main_dataframe['future']))"
   ]
  },
  {
   "cell_type": "code",
   "execution_count": 16,
   "id": "8ef22b14",
   "metadata": {},
   "outputs": [
    {
     "data": {
      "text/html": [
       "<div>\n",
       "<style scoped>\n",
       "    .dataframe tbody tr th:only-of-type {\n",
       "        vertical-align: middle;\n",
       "    }\n",
       "\n",
       "    .dataframe tbody tr th {\n",
       "        vertical-align: top;\n",
       "    }\n",
       "\n",
       "    .dataframe thead th {\n",
       "        text-align: right;\n",
       "    }\n",
       "</style>\n",
       "<table border=\"1\" class=\"dataframe\">\n",
       "  <thead>\n",
       "    <tr style=\"text-align: right;\">\n",
       "      <th></th>\n",
       "      <th>BCH-USD_close</th>\n",
       "      <th>BCH-USD_volume</th>\n",
       "      <th>BTC-USD_close</th>\n",
       "      <th>BTC-USD_volume</th>\n",
       "      <th>ETH-USD_close</th>\n",
       "      <th>ETH-USD_volume</th>\n",
       "      <th>LTC-USD_close</th>\n",
       "      <th>LTC-USD_volume</th>\n",
       "      <th>future</th>\n",
       "      <th>target</th>\n",
       "    </tr>\n",
       "    <tr>\n",
       "      <th>time</th>\n",
       "      <th></th>\n",
       "      <th></th>\n",
       "      <th></th>\n",
       "      <th></th>\n",
       "      <th></th>\n",
       "      <th></th>\n",
       "      <th></th>\n",
       "      <th></th>\n",
       "      <th></th>\n",
       "      <th></th>\n",
       "    </tr>\n",
       "  </thead>\n",
       "  <tbody>\n",
       "    <tr>\n",
       "      <th>1528968660</th>\n",
       "      <td>871.719971</td>\n",
       "      <td>5.675361</td>\n",
       "      <td>6489.549805</td>\n",
       "      <td>0.587100</td>\n",
       "      <td>486.01001</td>\n",
       "      <td>26.019083</td>\n",
       "      <td>96.580002</td>\n",
       "      <td>9.647200</td>\n",
       "      <td>96.500000</td>\n",
       "      <td>0</td>\n",
       "    </tr>\n",
       "    <tr>\n",
       "      <th>1528968720</th>\n",
       "      <td>870.859985</td>\n",
       "      <td>26.856577</td>\n",
       "      <td>6487.379883</td>\n",
       "      <td>7.706374</td>\n",
       "      <td>486.01001</td>\n",
       "      <td>26.019083</td>\n",
       "      <td>96.660004</td>\n",
       "      <td>314.387024</td>\n",
       "      <td>96.389999</td>\n",
       "      <td>0</td>\n",
       "    </tr>\n",
       "    <tr>\n",
       "      <th>1528968780</th>\n",
       "      <td>870.099976</td>\n",
       "      <td>1.124300</td>\n",
       "      <td>6479.410156</td>\n",
       "      <td>3.088252</td>\n",
       "      <td>486.00000</td>\n",
       "      <td>8.449400</td>\n",
       "      <td>96.570000</td>\n",
       "      <td>77.129799</td>\n",
       "      <td>96.519997</td>\n",
       "      <td>0</td>\n",
       "    </tr>\n",
       "    <tr>\n",
       "      <th>1528968840</th>\n",
       "      <td>870.789978</td>\n",
       "      <td>1.749862</td>\n",
       "      <td>6479.410156</td>\n",
       "      <td>1.404100</td>\n",
       "      <td>485.75000</td>\n",
       "      <td>26.994646</td>\n",
       "      <td>96.500000</td>\n",
       "      <td>7.216067</td>\n",
       "      <td>96.440002</td>\n",
       "      <td>0</td>\n",
       "    </tr>\n",
       "    <tr>\n",
       "      <th>1528968900</th>\n",
       "      <td>870.000000</td>\n",
       "      <td>1.680500</td>\n",
       "      <td>6479.979980</td>\n",
       "      <td>0.753000</td>\n",
       "      <td>486.00000</td>\n",
       "      <td>77.355759</td>\n",
       "      <td>96.389999</td>\n",
       "      <td>524.539978</td>\n",
       "      <td>96.470001</td>\n",
       "      <td>1</td>\n",
       "    </tr>\n",
       "  </tbody>\n",
       "</table>\n",
       "</div>"
      ],
      "text/plain": [
       "            BCH-USD_close  BCH-USD_volume  BTC-USD_close  BTC-USD_volume  \\\n",
       "time                                                                       \n",
       "1528968660     871.719971        5.675361    6489.549805        0.587100   \n",
       "1528968720     870.859985       26.856577    6487.379883        7.706374   \n",
       "1528968780     870.099976        1.124300    6479.410156        3.088252   \n",
       "1528968840     870.789978        1.749862    6479.410156        1.404100   \n",
       "1528968900     870.000000        1.680500    6479.979980        0.753000   \n",
       "\n",
       "            ETH-USD_close  ETH-USD_volume  LTC-USD_close  LTC-USD_volume  \\\n",
       "time                                                                       \n",
       "1528968660      486.01001       26.019083      96.580002        9.647200   \n",
       "1528968720      486.01001       26.019083      96.660004      314.387024   \n",
       "1528968780      486.00000        8.449400      96.570000       77.129799   \n",
       "1528968840      485.75000       26.994646      96.500000        7.216067   \n",
       "1528968900      486.00000       77.355759      96.389999      524.539978   \n",
       "\n",
       "               future  target  \n",
       "time                           \n",
       "1528968660  96.500000       0  \n",
       "1528968720  96.389999       0  \n",
       "1528968780  96.519997       0  \n",
       "1528968840  96.440002       0  \n",
       "1528968900  96.470001       1  "
      ]
     },
     "execution_count": 16,
     "metadata": {},
     "output_type": "execute_result"
    }
   ],
   "source": [
    "main_dataframe.head()"
   ]
  },
  {
   "cell_type": "code",
   "execution_count": 17,
   "id": "2579cf0f",
   "metadata": {},
   "outputs": [],
   "source": [
    "times = sorted(main_dataframe.index.values)"
   ]
  },
  {
   "cell_type": "code",
   "execution_count": 18,
   "id": "2d1218e7",
   "metadata": {},
   "outputs": [
    {
     "data": {
      "text/plain": [
       "92225"
      ]
     },
     "execution_count": 18,
     "metadata": {},
     "output_type": "execute_result"
    }
   ],
   "source": [
    "len(times)"
   ]
  },
  {
   "cell_type": "code",
   "execution_count": 19,
   "id": "ff340acd",
   "metadata": {},
   "outputs": [
    {
     "data": {
      "text/plain": [
       "9222"
      ]
     },
     "execution_count": 19,
     "metadata": {},
     "output_type": "execute_result"
    }
   ],
   "source": [
    "int(0.1 * len(times))"
   ]
  },
  {
   "cell_type": "code",
   "execution_count": 20,
   "id": "30b5379b",
   "metadata": {},
   "outputs": [],
   "source": [
    "last_10pct = sorted(main_dataframe.index.values)[-int(0.1 * len(times))]"
   ]
  },
  {
   "cell_type": "code",
   "execution_count": 21,
   "id": "d84882e7",
   "metadata": {},
   "outputs": [
    {
     "data": {
      "text/plain": [
       "1534556340"
      ]
     },
     "execution_count": 21,
     "metadata": {},
     "output_type": "execute_result"
    }
   ],
   "source": [
    "last_10pct"
   ]
  },
  {
   "cell_type": "code",
   "execution_count": 22,
   "id": "08bd463e",
   "metadata": {},
   "outputs": [],
   "source": [
    "main_dataframe_train = main_dataframe[(main_dataframe.index < last_10pct)]\n",
    "main_dataframe_test = main_dataframe[(main_dataframe.index >= last_10pct)]"
   ]
  },
  {
   "cell_type": "code",
   "execution_count": 23,
   "id": "4516a4b5",
   "metadata": {},
   "outputs": [
    {
     "data": {
      "text/plain": [
       "83003"
      ]
     },
     "execution_count": 23,
     "metadata": {},
     "output_type": "execute_result"
    }
   ],
   "source": [
    "len(main_dataframe_train)"
   ]
  },
  {
   "cell_type": "code",
   "execution_count": 24,
   "id": "f93003ac",
   "metadata": {},
   "outputs": [
    {
     "data": {
      "text/plain": [
       "9222"
      ]
     },
     "execution_count": 24,
     "metadata": {},
     "output_type": "execute_result"
    }
   ],
   "source": [
    "len(main_dataframe_test)"
   ]
  },
  {
   "cell_type": "code",
   "execution_count": 25,
   "id": "2bd9cfea",
   "metadata": {},
   "outputs": [
    {
     "data": {
      "text/plain": [
       "time\n",
       "1528968660    6489.549805\n",
       "1528968720    6487.379883\n",
       "1528968780    6479.410156\n",
       "1528968840    6479.410156\n",
       "1528968900    6479.979980\n",
       "                 ...     \n",
       "1535215020    6714.520020\n",
       "1535215080    6714.520020\n",
       "1535215140    6715.000000\n",
       "1535215200    6715.000000\n",
       "1535215260    6715.000000\n",
       "Name: BTC-USD_close, Length: 92225, dtype: float64"
      ]
     },
     "execution_count": 25,
     "metadata": {},
     "output_type": "execute_result"
    }
   ],
   "source": [
    "main_dataframe['BTC-USD_close']"
   ]
  },
  {
   "cell_type": "code",
   "execution_count": 26,
   "id": "9cc1da08",
   "metadata": {},
   "outputs": [
    {
     "data": {
      "text/plain": [
       "time\n",
       "1528968660         NaN\n",
       "1528968720   -0.000334\n",
       "1528968780   -0.001228\n",
       "1528968840    0.000000\n",
       "1528968900    0.000088\n",
       "                ...   \n",
       "1535215020    0.000206\n",
       "1535215080    0.000000\n",
       "1535215140    0.000071\n",
       "1535215200    0.000000\n",
       "1535215260    0.000000\n",
       "Name: BTC-USD_close, Length: 92225, dtype: float64"
      ]
     },
     "execution_count": 26,
     "metadata": {},
     "output_type": "execute_result"
    }
   ],
   "source": [
    "main_dataframe['BTC-USD_close'].pct_change()"
   ]
  },
  {
   "cell_type": "code",
   "execution_count": 41,
   "id": "f2f357a8",
   "metadata": {},
   "outputs": [],
   "source": [
    "def preprocess_main_dataframe(df):\n",
    "    df = df.drop('future', axis=1)\n",
    "    for col in df.columns:\n",
    "        if col != 'target':\n",
    "            df[col] = df[col].pct_change()\n",
    "            df.dropna(inplace=True)\n",
    "            df[col] = preprocessing.scale(df[col].values)\n",
    "    df.dropna(inplace=True)\n",
    "    sequences = []\n",
    "    prev_days = deque(maxlen=30)\n",
    "    for i in df.values:\n",
    "        prev_days.append([n for n in i[:-1]])\n",
    "        if len(prev_days) == 30:\n",
    "            sequences.append([np.array(prev_days), i[-1]])\n",
    "    random.shuffle(sequences)\n",
    "    buys = []\n",
    "    sells = []\n",
    "    for seq, target in sequences:\n",
    "        if target == 0:\n",
    "            sells.append([seq, target])\n",
    "        elif target == 1:\n",
    "            buys.append([seq, target])\n",
    "    random.shuffle(buys)\n",
    "    random.shuffle(sells)\n",
    "    lower = min(len(buys), len(sells))\n",
    "    buys = buys[:lower]\n",
    "    sells = sells[:lower]\n",
    "    sequential_data = buys + sells\n",
    "    random.shuffle(sequential_data)\n",
    "    X, y = [], []\n",
    "    for seq, target in sequential_data:\n",
    "        X.append(seq)\n",
    "        y.append(target)\n",
    "    return np.array(X), np.array(y)"
   ]
  },
  {
   "cell_type": "code",
   "execution_count": 42,
   "id": "1a9651c6",
   "metadata": {},
   "outputs": [],
   "source": [
    "train_X, train_y = preprocess_main_dataframe(main_dataframe_train)"
   ]
  },
  {
   "cell_type": "code",
   "execution_count": 29,
   "id": "55fee416",
   "metadata": {},
   "outputs": [
    {
     "data": {
      "text/plain": [
       "83003"
      ]
     },
     "execution_count": 29,
     "metadata": {},
     "output_type": "execute_result"
    }
   ],
   "source": [
    "len(main_dataframe_train)"
   ]
  },
  {
   "cell_type": "code",
   "execution_count": 30,
   "id": "325c0fc3",
   "metadata": {},
   "outputs": [
    {
     "data": {
      "text/plain": [
       "(71030, 30, 8)"
      ]
     },
     "execution_count": 30,
     "metadata": {},
     "output_type": "execute_result"
    }
   ],
   "source": [
    "train_X.shape"
   ]
  },
  {
   "cell_type": "code",
   "execution_count": 31,
   "id": "8628f802",
   "metadata": {},
   "outputs": [
    {
     "data": {
      "text/plain": [
       "(71030,)"
      ]
     },
     "execution_count": 31,
     "metadata": {},
     "output_type": "execute_result"
    }
   ],
   "source": [
    "train_y.shape"
   ]
  },
  {
   "cell_type": "code",
   "execution_count": 32,
   "id": "808da77f",
   "metadata": {},
   "outputs": [
    {
     "data": {
      "text/plain": [
       "(array([0., 1.]), array([35515, 35515], dtype=int64))"
      ]
     },
     "execution_count": 32,
     "metadata": {},
     "output_type": "execute_result"
    }
   ],
   "source": [
    "np.unique(train_y, return_counts=True)"
   ]
  },
  {
   "cell_type": "code",
   "execution_count": 33,
   "id": "c7816d59",
   "metadata": {},
   "outputs": [],
   "source": [
    "test_X, test_y = preprocess_main_dataframe(main_dataframe_test)"
   ]
  },
  {
   "cell_type": "code",
   "execution_count": 34,
   "id": "d3e82c1c",
   "metadata": {},
   "outputs": [
    {
     "data": {
      "text/plain": [
       "(7840, 30, 8)"
      ]
     },
     "execution_count": 34,
     "metadata": {},
     "output_type": "execute_result"
    }
   ],
   "source": [
    "test_X.shape"
   ]
  },
  {
   "cell_type": "code",
   "execution_count": 35,
   "id": "78a113cc",
   "metadata": {},
   "outputs": [],
   "source": [
    "import tensorflow as tf\n",
    "from tensorflow.keras.models import Sequential\n",
    "from tensorflow.keras.layers import LSTM, Dense, Dropout, BatchNormalization"
   ]
  },
  {
   "cell_type": "code",
   "execution_count": 36,
   "id": "0aad2da0",
   "metadata": {},
   "outputs": [],
   "source": [
    "model = Sequential()\n",
    "model.add(LSTM(64, input_shape=(train_X.shape[1:])))\n",
    "model.add(Dense(32, activation='relu'))\n",
    "model.add(Dense(32, activation='relu'))\n",
    "model.add(Dense(2, activation='softmax'))"
   ]
  },
  {
   "cell_type": "code",
   "execution_count": 37,
   "id": "f2b23239",
   "metadata": {},
   "outputs": [],
   "source": [
    "model.compile(loss='sparse_categorical_crossentropy', optimizer='Adam', metrics=['accuracy'])"
   ]
  },
  {
   "cell_type": "code",
   "execution_count": 39,
   "id": "7eb0b66d",
   "metadata": {},
   "outputs": [
    {
     "name": "stdout",
     "output_type": "stream",
     "text": [
      "Epoch 1/100\n",
      "711/711 [==============================] - 15s 18ms/step - loss: 0.6839 - accuracy: 0.5551 - val_loss: 0.6783 - val_accuracy: 0.5666\n",
      "Epoch 2/100\n",
      "711/711 [==============================] - 12s 16ms/step - loss: 0.6800 - accuracy: 0.5655 - val_loss: 0.6781 - val_accuracy: 0.5643\n",
      "Epoch 3/100\n",
      "711/711 [==============================] - 11s 16ms/step - loss: 0.6784 - accuracy: 0.5674 - val_loss: 0.6811 - val_accuracy: 0.5705\n",
      "Epoch 4/100\n",
      "711/711 [==============================] - 11s 16ms/step - loss: 0.6763 - accuracy: 0.5745 - val_loss: 0.6779 - val_accuracy: 0.5654\n",
      "Epoch 5/100\n",
      "711/711 [==============================] - 11s 15ms/step - loss: 0.6739 - accuracy: 0.5780 - val_loss: 0.6779 - val_accuracy: 0.5672\n",
      "Epoch 6/100\n",
      "711/711 [==============================] - 11s 16ms/step - loss: 0.6716 - accuracy: 0.5811 - val_loss: 0.6823 - val_accuracy: 0.5668\n",
      "Epoch 7/100\n",
      "711/711 [==============================] - 11s 15ms/step - loss: 0.6691 - accuracy: 0.5869 - val_loss: 0.6850 - val_accuracy: 0.5491\n",
      "Epoch 8/100\n",
      "711/711 [==============================] - 11s 16ms/step - loss: 0.6653 - accuracy: 0.5901 - val_loss: 0.6882 - val_accuracy: 0.5541\n",
      "Epoch 9/100\n",
      "711/711 [==============================] - 11s 15ms/step - loss: 0.6613 - accuracy: 0.5966 - val_loss: 0.6937 - val_accuracy: 0.5585\n",
      "Epoch 10/100\n",
      "711/711 [==============================] - 11s 16ms/step - loss: 0.6562 - accuracy: 0.6042 - val_loss: 0.6968 - val_accuracy: 0.5557\n",
      "Epoch 11/100\n",
      "711/711 [==============================] - 12s 17ms/step - loss: 0.6502 - accuracy: 0.6129 - val_loss: 0.6959 - val_accuracy: 0.5589\n",
      "Epoch 12/100\n",
      "711/711 [==============================] - 12s 17ms/step - loss: 0.6441 - accuracy: 0.6187 - val_loss: 0.7079 - val_accuracy: 0.5503\n",
      "Epoch 13/100\n",
      "711/711 [==============================] - 12s 17ms/step - loss: 0.6373 - accuracy: 0.6259 - val_loss: 0.7202 - val_accuracy: 0.5527\n",
      "Epoch 14/100\n",
      "711/711 [==============================] - 13s 18ms/step - loss: 0.6302 - accuracy: 0.6343 - val_loss: 0.7306 - val_accuracy: 0.5463\n",
      "Epoch 15/100\n",
      "711/711 [==============================] - 12s 17ms/step - loss: 0.6233 - accuracy: 0.6396 - val_loss: 0.7491 - val_accuracy: 0.5466\n",
      "Epoch 16/100\n",
      "711/711 [==============================] - 13s 18ms/step - loss: 0.6162 - accuracy: 0.6462 - val_loss: 0.7505 - val_accuracy: 0.5444\n",
      "Epoch 17/100\n",
      "711/711 [==============================] - 14s 19ms/step - loss: 0.6090 - accuracy: 0.6537 - val_loss: 0.7654 - val_accuracy: 0.5445\n",
      "Epoch 18/100\n",
      "711/711 [==============================] - 12s 17ms/step - loss: 0.6008 - accuracy: 0.6612 - val_loss: 0.7820 - val_accuracy: 0.5364\n",
      "Epoch 19/100\n",
      "711/711 [==============================] - 12s 17ms/step - loss: 0.5933 - accuracy: 0.6694 - val_loss: 0.7965 - val_accuracy: 0.5379\n",
      "Epoch 20/100\n",
      "711/711 [==============================] - 12s 17ms/step - loss: 0.5862 - accuracy: 0.6716 - val_loss: 0.8059 - val_accuracy: 0.5328\n",
      "Epoch 21/100\n",
      "711/711 [==============================] - 12s 17ms/step - loss: 0.5797 - accuracy: 0.6771 - val_loss: 0.8168 - val_accuracy: 0.5445\n",
      "Epoch 22/100\n",
      "711/711 [==============================] - 13s 18ms/step - loss: 0.5718 - accuracy: 0.6842 - val_loss: 0.8358 - val_accuracy: 0.5316\n",
      "Epoch 23/100\n",
      "711/711 [==============================] - 15s 20ms/step - loss: 0.5660 - accuracy: 0.6873 - val_loss: 0.8481 - val_accuracy: 0.5316\n",
      "Epoch 24/100\n",
      "711/711 [==============================] - 15s 21ms/step - loss: 0.5587 - accuracy: 0.6949 - val_loss: 0.8646 - val_accuracy: 0.5394\n",
      "Epoch 25/100\n",
      "711/711 [==============================] - 15s 21ms/step - loss: 0.5526 - accuracy: 0.6979 - val_loss: 0.8909 - val_accuracy: 0.5321\n",
      "Epoch 26/100\n",
      "711/711 [==============================] - 15s 21ms/step - loss: 0.5455 - accuracy: 0.7021 - val_loss: 0.9107 - val_accuracy: 0.5325\n",
      "Epoch 27/100\n",
      "711/711 [==============================] - 15s 21ms/step - loss: 0.5395 - accuracy: 0.7075 - val_loss: 0.9325 - val_accuracy: 0.5321\n",
      "Epoch 28/100\n",
      "711/711 [==============================] - 15s 22ms/step - loss: 0.5330 - accuracy: 0.7134 - val_loss: 0.9525 - val_accuracy: 0.5319\n",
      "Epoch 29/100\n",
      "711/711 [==============================] - 15s 22ms/step - loss: 0.5271 - accuracy: 0.7176 - val_loss: 0.9633 - val_accuracy: 0.5296\n",
      "Epoch 30/100\n",
      "711/711 [==============================] - 15s 21ms/step - loss: 0.5218 - accuracy: 0.7213 - val_loss: 0.9863 - val_accuracy: 0.5349\n",
      "Epoch 31/100\n",
      "711/711 [==============================] - 15s 22ms/step - loss: 0.5176 - accuracy: 0.7237 - val_loss: 1.0050 - val_accuracy: 0.5315\n",
      "Epoch 32/100\n",
      "711/711 [==============================] - 16s 22ms/step - loss: 0.5106 - accuracy: 0.7276 - val_loss: 1.0454 - val_accuracy: 0.5281\n",
      "Epoch 33/100\n",
      "711/711 [==============================] - 15s 22ms/step - loss: 0.5064 - accuracy: 0.7310 - val_loss: 1.0597 - val_accuracy: 0.5397\n",
      "Epoch 34/100\n",
      "711/711 [==============================] - 15s 21ms/step - loss: 0.5015 - accuracy: 0.7350 - val_loss: 1.0486 - val_accuracy: 0.5367\n",
      "Epoch 35/100\n",
      "711/711 [==============================] - 15s 21ms/step - loss: 0.4971 - accuracy: 0.7398 - val_loss: 1.0724 - val_accuracy: 0.5255\n",
      "Epoch 36/100\n",
      "711/711 [==============================] - 15s 20ms/step - loss: 0.4926 - accuracy: 0.7415 - val_loss: 1.0900 - val_accuracy: 0.5254\n",
      "Epoch 37/100\n",
      "711/711 [==============================] - 15s 21ms/step - loss: 0.4875 - accuracy: 0.7423 - val_loss: 1.1346 - val_accuracy: 0.5291\n",
      "Epoch 38/100\n",
      "711/711 [==============================] - 15s 21ms/step - loss: 0.4848 - accuracy: 0.7471 - val_loss: 1.1323 - val_accuracy: 0.5298\n",
      "Epoch 39/100\n",
      "711/711 [==============================] - 14s 20ms/step - loss: 0.4798 - accuracy: 0.7487 - val_loss: 1.1414 - val_accuracy: 0.5302\n",
      "Epoch 40/100\n",
      "711/711 [==============================] - 15s 21ms/step - loss: 0.4760 - accuracy: 0.7512 - val_loss: 1.1593 - val_accuracy: 0.5362\n",
      "Epoch 41/100\n",
      "711/711 [==============================] - 17s 23ms/step - loss: 0.4728 - accuracy: 0.7545 - val_loss: 1.1812 - val_accuracy: 0.5344\n",
      "Epoch 42/100\n",
      "711/711 [==============================] - 16s 23ms/step - loss: 0.4683 - accuracy: 0.7570 - val_loss: 1.1818 - val_accuracy: 0.5324\n",
      "Epoch 43/100\n",
      "711/711 [==============================] - 15s 22ms/step - loss: 0.4652 - accuracy: 0.7591 - val_loss: 1.1895 - val_accuracy: 0.5332\n",
      "Epoch 44/100\n",
      "711/711 [==============================] - 15s 21ms/step - loss: 0.4623 - accuracy: 0.7612 - val_loss: 1.2432 - val_accuracy: 0.5293\n",
      "Epoch 45/100\n",
      "711/711 [==============================] - 15s 21ms/step - loss: 0.4570 - accuracy: 0.7641 - val_loss: 1.2693 - val_accuracy: 0.5301\n",
      "Epoch 46/100\n",
      "711/711 [==============================] - 15s 21ms/step - loss: 0.4545 - accuracy: 0.7664 - val_loss: 1.2819 - val_accuracy: 0.5240\n",
      "Epoch 47/100\n",
      "711/711 [==============================] - 15s 21ms/step - loss: 0.4510 - accuracy: 0.7680 - val_loss: 1.3003 - val_accuracy: 0.5287\n",
      "Epoch 48/100\n",
      "711/711 [==============================] - 15s 22ms/step - loss: 0.4479 - accuracy: 0.7704 - val_loss: 1.3048 - val_accuracy: 0.5318\n",
      "Epoch 49/100\n",
      "711/711 [==============================] - 14s 20ms/step - loss: 0.4462 - accuracy: 0.7711 - val_loss: 1.3019 - val_accuracy: 0.5286\n",
      "Epoch 50/100\n",
      "711/711 [==============================] - 15s 22ms/step - loss: 0.4419 - accuracy: 0.7739 - val_loss: 1.3359 - val_accuracy: 0.5295\n",
      "Epoch 51/100\n",
      "711/711 [==============================] - 16s 22ms/step - loss: 0.4403 - accuracy: 0.7741 - val_loss: 1.3408 - val_accuracy: 0.5273\n",
      "Epoch 52/100\n",
      "711/711 [==============================] - 15s 22ms/step - loss: 0.4353 - accuracy: 0.7781 - val_loss: 1.4418 - val_accuracy: 0.5281\n",
      "Epoch 53/100\n",
      "711/711 [==============================] - 15s 21ms/step - loss: 0.4335 - accuracy: 0.7788 - val_loss: 1.4220 - val_accuracy: 0.5241\n",
      "Epoch 54/100\n",
      "711/711 [==============================] - 15s 22ms/step - loss: 0.4319 - accuracy: 0.7807 - val_loss: 1.4419 - val_accuracy: 0.5306\n",
      "Epoch 55/100\n",
      "711/711 [==============================] - 15s 22ms/step - loss: 0.4258 - accuracy: 0.7830 - val_loss: 1.4541 - val_accuracy: 0.5278\n",
      "Epoch 56/100\n",
      "711/711 [==============================] - 16s 22ms/step - loss: 0.4240 - accuracy: 0.7839 - val_loss: 1.4204 - val_accuracy: 0.5277\n",
      "Epoch 57/100\n"
     ]
    },
    {
     "name": "stdout",
     "output_type": "stream",
     "text": [
      "711/711 [==============================] - 16s 22ms/step - loss: 0.4236 - accuracy: 0.7846 - val_loss: 1.4589 - val_accuracy: 0.5332\n",
      "Epoch 58/100\n",
      "711/711 [==============================] - 15s 21ms/step - loss: 0.4223 - accuracy: 0.7857 - val_loss: 1.4616 - val_accuracy: 0.5283\n",
      "Epoch 59/100\n",
      "711/711 [==============================] - 15s 21ms/step - loss: 0.4175 - accuracy: 0.7893 - val_loss: 1.4594 - val_accuracy: 0.5278\n",
      "Epoch 60/100\n",
      "711/711 [==============================] - 15s 21ms/step - loss: 0.4126 - accuracy: 0.7921 - val_loss: 1.5384 - val_accuracy: 0.5227\n",
      "Epoch 61/100\n",
      "711/711 [==============================] - 15s 21ms/step - loss: 0.4115 - accuracy: 0.7926 - val_loss: 1.5333 - val_accuracy: 0.5310\n",
      "Epoch 62/100\n",
      "711/711 [==============================] - 14s 20ms/step - loss: 0.4127 - accuracy: 0.7919 - val_loss: 1.5550 - val_accuracy: 0.5228\n",
      "Epoch 63/100\n",
      "711/711 [==============================] - 15s 21ms/step - loss: 0.4093 - accuracy: 0.7936 - val_loss: 1.6154 - val_accuracy: 0.5254\n",
      "Epoch 64/100\n",
      "711/711 [==============================] - 16s 22ms/step - loss: 0.4068 - accuracy: 0.7951 - val_loss: 1.5398 - val_accuracy: 0.5249\n",
      "Epoch 65/100\n",
      "711/711 [==============================] - 16s 23ms/step - loss: 0.4036 - accuracy: 0.7977 - val_loss: 1.5754 - val_accuracy: 0.5236\n",
      "Epoch 66/100\n",
      "711/711 [==============================] - 16s 22ms/step - loss: 0.4020 - accuracy: 0.7983 - val_loss: 1.6363 - val_accuracy: 0.5278\n",
      "Epoch 67/100\n",
      "711/711 [==============================] - 15s 22ms/step - loss: 0.4004 - accuracy: 0.7988 - val_loss: 1.5533 - val_accuracy: 0.5264\n",
      "Epoch 68/100\n",
      "711/711 [==============================] - 15s 21ms/step - loss: 0.3997 - accuracy: 0.7986 - val_loss: 1.5834 - val_accuracy: 0.5314\n",
      "Epoch 69/100\n",
      "711/711 [==============================] - 15s 21ms/step - loss: 0.3948 - accuracy: 0.8013 - val_loss: 1.6701 - val_accuracy: 0.5233\n",
      "Epoch 70/100\n",
      "711/711 [==============================] - 15s 21ms/step - loss: 0.3901 - accuracy: 0.8053 - val_loss: 1.6977 - val_accuracy: 0.5223\n",
      "Epoch 71/100\n",
      "711/711 [==============================] - 15s 21ms/step - loss: 0.3927 - accuracy: 0.8032 - val_loss: 1.7064 - val_accuracy: 0.5188\n",
      "Epoch 72/100\n",
      "711/711 [==============================] - 15s 22ms/step - loss: 0.3887 - accuracy: 0.8059 - val_loss: 1.6798 - val_accuracy: 0.5247\n",
      "Epoch 73/100\n",
      "711/711 [==============================] - 16s 22ms/step - loss: 0.3914 - accuracy: 0.8037 - val_loss: 1.7119 - val_accuracy: 0.5291\n",
      "Epoch 74/100\n",
      "711/711 [==============================] - 15s 21ms/step - loss: 0.3839 - accuracy: 0.8089 - val_loss: 1.7346 - val_accuracy: 0.5253\n",
      "Epoch 75/100\n",
      "711/711 [==============================] - 13s 19ms/step - loss: 0.3877 - accuracy: 0.8077 - val_loss: 1.7250 - val_accuracy: 0.5224\n",
      "Epoch 76/100\n",
      "711/711 [==============================] - 14s 20ms/step - loss: 0.3832 - accuracy: 0.8081 - val_loss: 1.7254 - val_accuracy: 0.5288\n",
      "Epoch 77/100\n",
      "711/711 [==============================] - 14s 20ms/step - loss: 0.3792 - accuracy: 0.8102 - val_loss: 1.7168 - val_accuracy: 0.5256\n",
      "Epoch 78/100\n",
      "711/711 [==============================] - 16s 23ms/step - loss: 0.3809 - accuracy: 0.8114 - val_loss: 1.7834 - val_accuracy: 0.5256\n",
      "Epoch 79/100\n",
      "711/711 [==============================] - 16s 22ms/step - loss: 0.3773 - accuracy: 0.8135 - val_loss: 1.7789 - val_accuracy: 0.5221\n",
      "Epoch 80/100\n",
      "711/711 [==============================] - 15s 21ms/step - loss: 0.3757 - accuracy: 0.8139 - val_loss: 1.8174 - val_accuracy: 0.5265\n",
      "Epoch 81/100\n",
      "711/711 [==============================] - 15s 21ms/step - loss: 0.3769 - accuracy: 0.8136 - val_loss: 1.8641 - val_accuracy: 0.5226\n",
      "Epoch 82/100\n",
      "711/711 [==============================] - 15s 21ms/step - loss: 0.3707 - accuracy: 0.8163 - val_loss: 1.8564 - val_accuracy: 0.5185\n",
      "Epoch 83/100\n",
      "711/711 [==============================] - 15s 21ms/step - loss: 0.3720 - accuracy: 0.8155 - val_loss: 1.8628 - val_accuracy: 0.5279\n",
      "Epoch 84/100\n",
      "711/711 [==============================] - 15s 21ms/step - loss: 0.3714 - accuracy: 0.8161 - val_loss: 1.8717 - val_accuracy: 0.5213\n",
      "Epoch 85/100\n",
      "711/711 [==============================] - 15s 21ms/step - loss: 0.3692 - accuracy: 0.8180 - val_loss: 1.8851 - val_accuracy: 0.5249\n",
      "Epoch 86/100\n",
      "711/711 [==============================] - 15s 22ms/step - loss: 0.3688 - accuracy: 0.8180 - val_loss: 1.8796 - val_accuracy: 0.5242\n",
      "Epoch 87/100\n",
      "711/711 [==============================] - 16s 22ms/step - loss: 0.3645 - accuracy: 0.8211 - val_loss: 1.9300 - val_accuracy: 0.5242\n",
      "Epoch 88/100\n",
      "711/711 [==============================] - 15s 21ms/step - loss: 0.3670 - accuracy: 0.8185 - val_loss: 1.8879 - val_accuracy: 0.5270\n",
      "Epoch 89/100\n",
      "711/711 [==============================] - 16s 23ms/step - loss: 0.3652 - accuracy: 0.8208 - val_loss: 1.8994 - val_accuracy: 0.5222\n",
      "Epoch 90/100\n",
      "711/711 [==============================] - 16s 23ms/step - loss: 0.3649 - accuracy: 0.8195 - val_loss: 1.8997 - val_accuracy: 0.5222\n",
      "Epoch 91/100\n",
      "711/711 [==============================] - 16s 22ms/step - loss: 0.3671 - accuracy: 0.8174 - val_loss: 1.9299 - val_accuracy: 0.5233\n",
      "Epoch 92/100\n",
      "711/711 [==============================] - 15s 21ms/step - loss: 0.3594 - accuracy: 0.8226 - val_loss: 1.9268 - val_accuracy: 0.5204\n",
      "Epoch 93/100\n",
      "711/711 [==============================] - 15s 21ms/step - loss: 0.3584 - accuracy: 0.8233 - val_loss: 1.9790 - val_accuracy: 0.5209\n",
      "Epoch 94/100\n",
      "711/711 [==============================] - 15s 21ms/step - loss: 0.3563 - accuracy: 0.8244 - val_loss: 1.9623 - val_accuracy: 0.5212\n",
      "Epoch 95/100\n",
      "711/711 [==============================] - 15s 21ms/step - loss: 0.3555 - accuracy: 0.8243 - val_loss: 1.9646 - val_accuracy: 0.5205\n",
      "Epoch 96/100\n",
      "711/711 [==============================] - 15s 22ms/step - loss: 0.3546 - accuracy: 0.8263 - val_loss: 2.0144 - val_accuracy: 0.5185\n",
      "Epoch 97/100\n",
      "711/711 [==============================] - 14s 20ms/step - loss: 0.3543 - accuracy: 0.8266 - val_loss: 2.0440 - val_accuracy: 0.5203\n",
      "Epoch 98/100\n",
      "711/711 [==============================] - 14s 20ms/step - loss: 0.3537 - accuracy: 0.8271 - val_loss: 1.9957 - val_accuracy: 0.5221\n",
      "Epoch 99/100\n",
      "711/711 [==============================] - 16s 22ms/step - loss: 0.3549 - accuracy: 0.8270 - val_loss: 2.0508 - val_accuracy: 0.5184\n",
      "Epoch 100/100\n",
      "711/711 [==============================] - 14s 20ms/step - loss: 0.3487 - accuracy: 0.8286 - val_loss: 2.0147 - val_accuracy: 0.5241\n"
     ]
    }
   ],
   "source": [
    "history = model.fit(train_X, train_y, batch_size=100, epochs=100, validation_data=(test_X, test_y))"
   ]
  },
  {
   "cell_type": "code",
   "execution_count": 40,
   "id": "92005ea3",
   "metadata": {},
   "outputs": [
    {
     "data": {
      "text/plain": [
       "[<matplotlib.lines.Line2D at 0x26264ee2f40>]"
      ]
     },
     "execution_count": 40,
     "metadata": {},
     "output_type": "execute_result"
    },
    {
     "data": {
      "image/png": "[encoded data removed]",
      "text/plain": [
       "<Figure size 432x288 with 1 Axes>"
      ]
     },
     "metadata": {
      "needs_background": "light"
     },
     "output_type": "display_data"
    }
   ],
   "source": [
    "plt.plot(history.history['accuracy'], color='green')\n",
    "plt.plot(history.history['val_accuracy'], color='red')"
   ]
  }
 ],
 "metadata": {
  "kernelspec": {
   "display_name": "Python 3 (ipykernel)",
   "language": "python",
   "name": "python3"
  },
  "language_info": {
   "codemirror_mode": {
    "name": "ipython",
    "version": 3
   },
   "file_extension": ".py",
   "mimetype": "text/x-python",
   "name": "python",
   "nbconvert_exporter": "python",
   "pygments_lexer": "ipython3",
   "version": "3.9.12"
  }
 },
 "nbformat": 4,
 "nbformat_minor": 5
}
